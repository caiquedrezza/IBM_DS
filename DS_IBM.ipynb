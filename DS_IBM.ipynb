{
  "metadata": {
    "kernelspec": {
      "name": "python",
      "display_name": "Python (Pyodide)",
      "language": "python"
    },
    "language_info": {
      "codemirror_mode": {
        "name": "python",
        "version": 3
      },
      "file_extension": ".py",
      "mimetype": "text/x-python",
      "name": "python",
      "nbconvert_exporter": "python",
      "pygments_lexer": "ipython3",
      "version": "3.8"
    }
  },
  "nbformat_minor": 4,
  "nbformat": 4,
  "cells": [
    {
      "cell_type": "code",
      "source": "#Noteboook test for IBM certification",
      "metadata": {
        "trusted": true
      },
      "outputs": [],
      "execution_count": null
    },
    {
      "cell_type": "code",
      "source": "## Introduction\n\nIn this document I will show some Python features, come with us!",
      "metadata": {
        "trusted": true
      },
      "outputs": [],
      "execution_count": 1
    },
    {
      "cell_type": "code",
      "source": "## Data Science Languages\n\n1. **R**: More used by staticians.\n\n2. **Python**: Larged used by developers.\n\n3. **SAS**: Also used by staticians.\n\n4. **SQL**: Used to manipulated databases.\n\n5. **Scala**: Used with Spark for a distributed datasets.",
      "metadata": {
        "trusted": true
      },
      "outputs": [],
      "execution_count": null
    },
    {
      "cell_type": "code",
      "source": "## DS libraries\n\n1. **Scikit-learn**: ML projects.\n\n2. **NumPy**: Operations.\n\n3. **Pandas**: For ETL.\n\n4. **Seaborn**: Grafs.\n\n5. **Matplotlib**: Grafs.\n\n6. **TensorFlow**: Deep learning.",
      "metadata": {
        "trusted": true
      },
      "outputs": [],
      "execution_count": null
    },
    {
      "cell_type": "code",
      "source": "## DS Tools\n\n| Tool                 | Usage                                                 |\n|----------------------|-------------------------------------------------------|\n| **RStudio**          | R, data analysis.                                     |\n| **Jupyter Notebook** | Python, data and others possibles usage.              |\n| **Apache Spark**     | Big Data, R or Python.                                |\n| **Git**              | Code version                                          |\n| **Power BI**         | Graf                                                  |",
      "metadata": {
        "trusted": true
      },
      "outputs": [],
      "execution_count": null
    },
    {
      "cell_type": "code",
      "source": "1. **Add:**\n   - \\( 8 + 12 \\)  => Result: 20\n   - \\( 15 + 9 \\) => Result: 24\n\n2. **Div:**\n   - \\( 15 \\div 3 \\)     => Result: 5",
      "metadata": {
        "trusted": true
      },
      "outputs": [],
      "execution_count": null
    },
    {
      "cell_type": "code",
      "source": "a1 = 5\na2 = 3\n\n# Multiply\nmult = a1 * a2\n\n# Add\nAdd = a1 + a2\n\n# Exibindo os resultados\nprint(f\"Multiply: {mult}\")\nprint(f\"Adding: {Add}\")",
      "metadata": {
        "trusted": true
      },
      "outputs": [],
      "execution_count": null
    },
    {
      "cell_type": "code",
      "source": "# Defining minutes\nminutes = 180\n\n# Converting it to hours\nhours = minutes / 60\n\n# Result\nprint(f\"{minutes} minutes is equal to {hours} hours\")",
      "metadata": {
        "trusted": true
      },
      "outputs": [],
      "execution_count": null
    },
    {
      "cell_type": "code",
      "source": "1. Do my best to understand Python and R languages.\n2. Help other people.\n3. Do the best I can to be a good Data Scientist.\n4. Do my job (but not only it).",
      "metadata": {
        "trusted": true
      },
      "outputs": [],
      "execution_count": null
    },
    {
      "cell_type": "code",
      "source": "**Author**: [Caique Drezza]",
      "metadata": {
        "trusted": true
      },
      "outputs": [],
      "execution_count": null
    }
  ]
}